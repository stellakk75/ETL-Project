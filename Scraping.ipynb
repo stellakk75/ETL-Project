{
 "cells": [
  {
   "cell_type": "code",
   "execution_count": 1,
   "metadata": {},
   "outputs": [],
   "source": [
    "#dependencies\n",
    "from splinter import Browser\n",
    "from bs4 import BeautifulSoup as bs\n",
    "from urllib.parse import urljoin\n",
    "import pymongo\n",
    "import time\n",
    "import numpy as np\n",
    "import requests\n",
    "import pandas as pd\n",
    "from sqlalchemy import create_engine"
   ]
  },
  {
   "cell_type": "code",
   "execution_count": 2,
   "metadata": {},
   "outputs": [],
   "source": [
    "browser = Browser('chrome', headless=True)"
   ]
  },
  {
   "cell_type": "code",
   "execution_count": 14,
   "metadata": {},
   "outputs": [],
   "source": [
    "#Scrape data and create list from scrapped data\n",
    "\n",
    "quote_all = []\n",
    "pages = np.arange(1,11,1)#start page 1, stop page 10, step 1 \n",
    "quote_id = 0\n",
    "for page in pages:\n",
    "    page = requests.get('http://quotes.toscrape.com/page/' +str(page)+ '/')\n",
    "    soup = bs(page.text,'lxml') \n",
    "    quotes = soup.find_all('span', class_='text')\n",
    "    link_main = soup.find_all('div',class_ = 'quote')\n",
    "    authors = soup.find_all('small', class_='author')\n",
    "\n",
    "    i = 1\n",
    "    for i in range(0,len(quotes)):\n",
    "        q = quotes[i].text \n",
    "        a = authors[i].text\n",
    "        link = link_main[i].a['href']\n",
    "        tags = soup.find_all('div', class_='tags')\n",
    "        t = [ ] \n",
    "        for tags in link_main[i].find_all('a' , class_='tag'):\n",
    "            taggers = tags.text\n",
    "            t.append(taggers)\n",
    "\n",
    "        author_url = 'http://quotes.toscrape.com' + link \n",
    "        author_info = requests.get('http://quotes.toscrape.com' + link)\n",
    "        soup = bs(author_info.text,'html.parser')\n",
    "        author_born = soup.find_all('span', class_='author-born-date')\n",
    "        author_description = soup.find_all('div', class_='author-description')\n",
    "        quote_id = quote_id + 1\n",
    "        data = {\n",
    "           'quote_id': quote_id,\n",
    "           'quote': q,\n",
    "           'author_name': a,\n",
    "           'tags' : t,\n",
    "            'dob': author_born[0].text,\n",
    "            'description': author_description[0].text.replace('\\n','')      # removed the new line charcter          \n",
    "           }\n",
    "        quote_all.append(data)\n",
    "\n",
    "    else:\n",
    "        continue\n",
    "\n",
    "#Exit browser session which was started for scrapping in hidden mode\n",
    "browser.quit()"
   ]
  },
  {
   "cell_type": "code",
   "execution_count": 6,
   "metadata": {},
   "outputs": [],
   "source": [
    "# Setup connection to mongodb\n",
    "#mongo local connection\n",
    "#conn = \"mongodb://localhost:27017\"\n",
    "#mongo Atlas\n",
    "conn = \"mongo \"mongodb+srv://mongocluster.co3vn.mongodb.net/admin\" --username admin --password mongo\"\n",
    "client = pymongo.MongoClient(conn)"
   ]
  },
  {
   "cell_type": "code",
   "execution_count": 15,
   "metadata": {},
   "outputs": [
    {
     "data": {
      "text/plain": [
       "<pymongo.results.InsertManyResult at 0x120af1b00>"
      ]
     },
     "execution_count": 15,
     "metadata": {},
     "output_type": "execute_result"
    }
   ],
   "source": [
    "#Load Quotes data\n",
    "db = client.quote_etl\n",
    "db.author_quote.insert_many(quote_all)"
   ]
  },
  {
   "cell_type": "markdown",
   "metadata": {},
   "source": [
    "Execute postgres_schema.sql in postgres client to create the tables and delete data if exist"
   ]
  },
  {
   "cell_type": "code",
   "execution_count": 16,
   "metadata": {},
   "outputs": [],
   "source": [
    "#Define postgres connection\n",
    "conn = f\"postgres:Isla@localhost:5432/quotes_db\"\n",
    "engine = create_engine(f'postgresql://{conn}')"
   ]
  },
  {
   "cell_type": "code",
   "execution_count": 18,
   "metadata": {},
   "outputs": [
    {
     "data": {
      "text/plain": [
       "['author', 'quotes', 'tags']"
      ]
     },
     "execution_count": 18,
     "metadata": {},
     "output_type": "execute_result"
    }
   ],
   "source": [
    "engine.table_names()"
   ]
  },
  {
   "cell_type": "code",
   "execution_count": 19,
   "metadata": {},
   "outputs": [],
   "source": [
    "tags_table = []\n",
    "quotes_table = []\n",
    "author_table = []\n",
    "authors_list = []\n",
    "for rows in db.author_quote.find({}):\n",
    "    for tag in rows['tags']:\n",
    "        tags_table.append({'quote_id':rows['quote_id'] , 'tag' : tag})\n",
    "    quotes_table.append({'quote_id':rows['quote_id'],'author_name': rows['author_name'],'quote':rows['quote']})       \n",
    "    if rows['author_name'].strip() not in authors_list:\n",
    "        authors_list.append(rows['author_name'])\n",
    "        author_table.append({'author_name':rows['author_name'],'dob':rows['dob'],'description':rows['description']})\n",
    "        \n",
    "tags_df = pd.DataFrame(tags_table)\n",
    "quotes_df = pd.DataFrame(quotes_table)\n",
    "author_df = pd.DataFrame(author_table)"
   ]
  },
  {
   "cell_type": "code",
   "execution_count": 20,
   "metadata": {},
   "outputs": [],
   "source": [
    "#Load tags data\n",
    "tags_df.to_sql(name='tags', con=engine, if_exists='append', index=False)"
   ]
  },
  {
   "cell_type": "code",
   "execution_count": 21,
   "metadata": {},
   "outputs": [],
   "source": [
    "#Load quotes data\n",
    "quotes_df.to_sql(name='quotes', con=engine, if_exists='append', index=False)"
   ]
  },
  {
   "cell_type": "code",
   "execution_count": 22,
   "metadata": {},
   "outputs": [],
   "source": [
    "#Load author data\n",
    "author_df.to_sql(name='author', con=engine, if_exists='append', index=False)"
   ]
  },
  {
   "cell_type": "code",
   "execution_count": null,
   "metadata": {},
   "outputs": [],
   "source": []
  }
 ],
 "metadata": {
  "kernelspec": {
   "display_name": "Python 3",
   "language": "python",
   "name": "python3"
  },
  "language_info": {
   "codemirror_mode": {
    "name": "ipython",
    "version": 3
   },
   "file_extension": ".py",
   "mimetype": "text/x-python",
   "name": "python",
   "nbconvert_exporter": "python",
   "pygments_lexer": "ipython3",
   "version": "3.8.3"
  }
 },
 "nbformat": 4,
 "nbformat_minor": 4
}

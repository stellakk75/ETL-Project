{
 "cells": [
  {
   "cell_type": "code",
   "execution_count": null,
   "metadata": {},
   "outputs": [],
   "source": [
    "#dependencies\n",
    "from splinter import Browser\n",
    "from bs4 import BeautifulSoup as bs\n",
    "from urllib.parse import urljoin\n",
    "import pymongo\n",
    "import time\n",
    "import numpy as np\n",
    "import requests\n",
    "import pandas as pd\n"
   ]
  },
  {
   "cell_type": "code",
   "execution_count": null,
   "metadata": {},
   "outputs": [],
   "source": [
    "browser = Browser('chrome')"
   ]
  },
  {
   "cell_type": "code",
   "execution_count": null,
   "metadata": {},
   "outputs": [],
   "source": [
    "def get_soup(url):\n",
    "    browser.visit(url)\n",
    "    html = browser.html    \n",
    "    soup = bs(html, 'html.parser')\n",
    "    return soup"
   ]
  },
  {
   "cell_type": "code",
   "execution_count": null,
   "metadata": {},
   "outputs": [],
   "source": [
    "#scraping top ten tags. \n",
    "#flask /top10tags\n",
    "soup = get_soup('http://quotes.toscrape.com/')\n",
    "sidebar = soup.find_all('span', class_='tag-item')\n",
    "item = sidebar[0]\n",
    "tags = []\n",
    "\n",
    "for item in sidebar:\n",
    "    tag = item.a.getText()\n",
    "    tags.append(tag)\n",
    "    print(tag)"
   ]
  },
  {
   "cell_type": "code",
   "execution_count": null,
   "metadata": {},
   "outputs": [],
   "source": [
    "#quotes, authors, tags \n",
    "#looping through EACH page\n",
    "quote_all = []\n",
    "quote_tbl1 = []\n",
    "pages = np.arange(1,11,1)#start page 1, stop page 10, step 1 \n",
    "\n",
    "for page in pages:\n",
    "    page = requests.get('http://quotes.toscrape.com/page/' +str(page)+ '/')\n",
    "    soup = bs(page.text,'html.parser')\n",
    "    \n",
    "    quotes = soup.find_all('span', class_='text')  \n",
    "    authors = soup.find_all('small', class_='author')\n",
    "    tags = soup.find_all('div', class_=\"tags\")\n",
    "\n",
    "    \n",
    "    for i in range(0,len(quotes)):\n",
    "        q = quotes[i].text\n",
    "        a = authors[i].text\n",
    "        \n",
    "        \n",
    "        \n",
    "        tags = soup.find_all('div', class_='tags')\n",
    "        quotetags = tags[i].find_all('a',class_='tag')\n",
    "\n",
    "        t = [ ] \n",
    "        \n",
    "        for tags in quotetags:\n",
    "            taggers = tags.text\n",
    "            t.append(taggers)\n",
    "        \n",
    "        \n",
    "        #place into dictionary \n",
    "        data = {'quote:': q,\n",
    "               'author name:': a,\n",
    "               'tags' : t\n",
    "               }\n",
    "        quote_all.append(data)\n",
    "        tbl1 = {'author_name': a,\n",
    "               'quote': q\n",
    "               }\n",
    "        quote_tbl1.append(tbl1)\n",
    "\n",
    "   \n",
    "        \n",
    "    #print(quote_all);\n"
   ]
  },
  {
   "cell_type": "code",
   "execution_count": null,
   "metadata": {},
   "outputs": [],
   "source": [
    "#quote_all\n",
    "quote_tbl1"
   ]
  },
  {
   "cell_type": "code",
   "execution_count": null,
   "metadata": {},
   "outputs": [],
   "source": [
    "#get author date of birth, description\n",
    "author_all = [ ] \n",
    "\n",
    "pages = np.arange(1,11,1)#start page 1, stop page 10, step 1 \n",
    "\n",
    "for page in pages:\n",
    "    page = requests.get('http://quotes.toscrape.com/page/' +str(page)+ '/')\n",
    "    soup = bs(page.text,'html.parser')\n",
    "\n",
    "    for link in soup.find_all('a',href=True):\n",
    "        if link.get_text() == \"(about)\":\n",
    "            author_url = 'http://quotes.toscrape.com' + link[\"href\"]\n",
    "            author_info = requests.get('http://quotes.toscrape.com' + link[\"href\"])\n",
    "            soup = bs(author_info.text,'html.parser')\n",
    "\n",
    "            author_born = soup.find_all('span', class_='author-born-date')\n",
    "            author_description = soup.find_all('div', class_='author-description')\n",
    "            data = {\"DOB:\": author_born[0].text,\n",
    "                   \"Description:\": author_description[0].text\n",
    "                   }\n",
    "            author_all.append(data)\n",
    "            \n",
    "            #print('Author URL : http://quotes.toscrape.com' + link[\"href\"])\n",
    "            #print(f'Author born: {author_born[0].text}, Author Description: {author_description[0].text}')\n",
    "        else:\n",
    "            continue\n",
    "\n",
    "\n"
   ]
  },
  {
   "cell_type": "code",
   "execution_count": null,
   "metadata": {},
   "outputs": [],
   "source": [
    "#author_all"
   ]
  },
  {
   "cell_type": "code",
   "execution_count": null,
   "metadata": {},
   "outputs": [],
   "source": [
    "# Setup connection to mongodb\n",
    "conn = \"mongodb://localhost:27017\"\n",
    "client = pymongo.MongoClient(conn)"
   ]
  },
  {
   "cell_type": "markdown",
   "metadata": {},
   "source": [
    "#### - one table for quotes, this table can have the quote and author relationship"
   ]
  },
  {
   "cell_type": "code",
   "execution_count": null,
   "metadata": {},
   "outputs": [],
   "source": [
    "#Load Quotes data\n",
    "db = client.quote_etl\n",
    "quote = db.author_quote\n",
    "quote.insert_many(quote_tbl1)"
   ]
  },
  {
   "cell_type": "markdown",
   "metadata": {},
   "source": [
    "#### - one table for author information"
   ]
  },
  {
   "cell_type": "code",
   "execution_count": null,
   "metadata": {},
   "outputs": [],
   "source": [
    "#Load Author Data\n",
    "db = client.quote_etl\n",
    "author = db.authors\n",
    "author.insert_many(author_all)"
   ]
  },
  {
   "cell_type": "code",
   "execution_count": null,
   "metadata": {},
   "outputs": [],
   "source": []
  },
  {
   "cell_type": "code",
   "execution_count": null,
   "metadata": {},
   "outputs": [],
   "source": []
  },
  {
   "cell_type": "code",
   "execution_count": null,
   "metadata": {},
   "outputs": [],
   "source": []
  },
  {
   "cell_type": "code",
   "execution_count": null,
   "metadata": {},
   "outputs": [],
   "source": []
  },
  {
   "cell_type": "code",
   "execution_count": null,
   "metadata": {},
   "outputs": [],
   "source": []
  },
  {
   "cell_type": "code",
   "execution_count": null,
   "metadata": {
    "scrolled": true
   },
   "outputs": [],
   "source": []
  },
  {
   "cell_type": "code",
   "execution_count": null,
   "metadata": {},
   "outputs": [],
   "source": []
  },
  {
   "cell_type": "code",
   "execution_count": null,
   "metadata": {},
   "outputs": [],
   "source": []
  },
  {
   "cell_type": "code",
   "execution_count": null,
   "metadata": {},
   "outputs": [],
   "source": []
  },
  {
   "cell_type": "code",
   "execution_count": null,
   "metadata": {},
   "outputs": [],
   "source": []
  },
  {
   "cell_type": "code",
   "execution_count": null,
   "metadata": {},
   "outputs": [],
   "source": []
  },
  {
   "cell_type": "code",
   "execution_count": null,
   "metadata": {},
   "outputs": [],
   "source": []
  },
  {
   "cell_type": "code",
   "execution_count": null,
   "metadata": {},
   "outputs": [],
   "source": []
  }
 ],
 "metadata": {
  "kernelspec": {
   "display_name": "Python 3",
   "language": "python",
   "name": "python3"
  },
  "language_info": {
   "codemirror_mode": {
    "name": "ipython",
    "version": 3
   },
   "file_extension": ".py",
   "mimetype": "text/x-python",
   "name": "python",
   "nbconvert_exporter": "python",
   "pygments_lexer": "ipython3",
   "version": "3.8.3"
  }
 },
 "nbformat": 4,
 "nbformat_minor": 4
}

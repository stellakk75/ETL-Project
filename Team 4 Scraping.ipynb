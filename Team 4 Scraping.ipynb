{
 "cells": [
  {
   "cell_type": "code",
   "execution_count": 15,
   "metadata": {},
   "outputs": [],
   "source": [
    "#Import Dependencies\n",
    "from bs4 import BeautifulSoup as bs\n",
    "from splinter import Browser\n",
    "import pandas as pd\n",
    "import pymongo\n",
    "import time \n",
    "from urllib.parse import urljoin"
   ]
  },
  {
   "cell_type": "code",
   "execution_count": 16,
   "metadata": {},
   "outputs": [],
   "source": [
    "#Starting browser\n",
    "def init_browser():\n",
    "    return Browser('chrome')"
   ]
  },
  {
   "cell_type": "code",
   "execution_count": 72,
   "metadata": {},
   "outputs": [],
   "source": [
    "#Visit website \n",
    "def scrape_info():\n",
    "        \n",
    "    browser = init_browser()\n",
    "    url = 'http://quotes.toscrape.com/'\n",
    "    browser.visit(url)\n",
    "    time.sleep(1)\n",
    "    for x in range (1,2):\n",
    "        html = browser.html\n",
    "        soup = bs(html, 'html.parser')\n",
    "        quotes = soup.find_all('span', class_='text')\n",
    "        authors = soup.find_all('small', class_='author')\n",
    "        tags = soup.find_all('div', class_=\"tags\")\n",
    "        for i in range(0, len(quotes)):\n",
    "            try:\n",
    "                print(quotes[i].text)\n",
    "                print('Author:- ' + authors[i].text)\n",
    "                #print(tags[i].find_all('a',class_='tag').text)\n",
    "                quotetags = tags[i].find_all('a',class_='tag')\n",
    "                for tags in quotetags:\n",
    "                    print(tags.text)\n",
    "                browser.links.find_by_partial_text('Next').click()\n",
    "            except:\n",
    "                continue"
   ]
  },
  {
   "cell_type": "code",
   "execution_count": 73,
   "metadata": {},
   "outputs": [
    {
     "name": "stdout",
     "output_type": "stream",
     "text": [
      "“The world as we have created it is a process of our thinking. It cannot be changed without changing our thinking.”\n",
      "Author:- Albert Einstein\n",
      "change\n",
      "deep-thoughts\n",
      "thinking\n",
      "world\n",
      "“It is our choices, Harry, that show what we truly are, far more than our abilities.”\n",
      "Author:- J.K. Rowling\n",
      "“There are only two ways to live your life. One is as though nothing is a miracle. The other is as though everything is a miracle.”\n",
      "Author:- Albert Einstein\n",
      "“The person, be it gentleman or lady, who has not pleasure in a good novel, must be intolerably stupid.”\n",
      "Author:- Jane Austen\n",
      "“Imperfection is beauty, madness is genius and it's better to be absolutely ridiculous than absolutely boring.”\n",
      "Author:- Marilyn Monroe\n",
      "“Try not to become a man of success. Rather become a man of value.”\n",
      "Author:- Albert Einstein\n",
      "“It is better to be hated for what you are than to be loved for what you are not.”\n",
      "Author:- André Gide\n",
      "“I have not failed. I've just found 10,000 ways that won't work.”\n",
      "Author:- Thomas A. Edison\n",
      "“A woman is like a tea bag; you never know how strong it is until it's in hot water.”\n",
      "Author:- Eleanor Roosevelt\n",
      "“A day without sunshine is like, you know, night.”\n",
      "Author:- Steve Martin\n"
     ]
    }
   ],
   "source": [
    "#Capture Tags\n",
    "scrape_info()"
   ]
  },
  {
   "cell_type": "code",
   "execution_count": null,
   "metadata": {},
   "outputs": [],
   "source": []
  }
 ],
 "metadata": {
  "kernelspec": {
   "display_name": "Python 3",
   "language": "python",
   "name": "python3"
  },
  "language_info": {
   "codemirror_mode": {
    "name": "ipython",
    "version": 3
   },
   "file_extension": ".py",
   "mimetype": "text/x-python",
   "name": "python",
   "nbconvert_exporter": "python",
   "pygments_lexer": "ipython3",
   "version": "3.8.3"
  }
 },
 "nbformat": 4,
 "nbformat_minor": 4
}

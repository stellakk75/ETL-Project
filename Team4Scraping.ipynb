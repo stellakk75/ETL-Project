{
 "cells": [
  {
   "cell_type": "code",
   "execution_count": 2,
   "metadata": {},
   "outputs": [],
   "source": [
    "#Import Dependencies,\n",
    "from bs4 import BeautifulSoup as bs\n",
    "from splinter import Browser\n",
    "import pandas as pd\n",
    "import pymongo\n",
    "import time\n",
    "from urllib.parse import urljoin"
   ]
  },
  {
   "cell_type": "code",
   "execution_count": 3,
   "metadata": {},
   "outputs": [],
   "source": [
    "#Starting browser\n",
    "def init_browser():\n",
    "    return Browser('chrome')"
   ]
  },
  {
   "cell_type": "code",
   "execution_count": 8,
   "metadata": {},
   "outputs": [],
   "source": [
    "#Visit website \n",
    "def scrape_info():\n",
    "    browser = init_browser()\n",
    "    url = 'http://quotes.toscrape.com'\n",
    "    browser.visit(url)\n",
    "    time.sleep(1)\n",
    "    for x in range (1,10):\n",
    "        \n",
    "        html = browser.html\n",
    "        soup = bs(html, 'html.parser')\n",
    "        quotes = soup.find_all('span', class_='text')\n",
    "        authors = soup.find_all('small', class_='author')\n",
    "        tags = soup.find_all('div', class_=\"tags\")\n",
    "        for i in range(0, len(quotes)):\n",
    "            try:\n",
    "                print(quotes[i].text)\n",
    "                print('Author:- ' + authors[i].text)\n",
    "                #print(tags[i].find_all('a',class_='tag').text)\n",
    "                quotetags = tags[i].find_all('a',class_='tag')\n",
    "                for tags in quotetags:\n",
    "                    print(f'Tags:{tags.text}')\n",
    "                    print('---------------------------------------------') \n",
    "            except:\n",
    "                continue\n",
    "            browser.links.find_by_partial_text('Next').click()\n",
    "            author = soup.find_all('span', class_='author')\n",
    "            for quote in quotes:\n",
    "                try:\n",
    "                    \n",
    "                    browser.links.find_by_partial_text('Next').click()\n",
    "                    print(quote.text)\n",
    "                    print(author.text)\n",
    "                except:\n",
    "                    print('Scraping Complete')"
   ]
  },
  {
   "cell_type": "code",
   "execution_count": 10,
   "metadata": {},
   "outputs": [],
   "source": [
    "#scrape_info()"
   ]
  },
  {
   "cell_type": "code",
   "execution_count": 14,
   "metadata": {},
   "outputs": [],
   "source": [
    "def author_details():\n",
    "    browser = init_browser()\n",
    "    url = 'http://quotes.toscrape.com/'\n",
    "    browser.visit(url)\n",
    "    time.sleep(1)\n",
    "    for x in range (1,2):\n",
    "        html = browser.html\n",
    "        soup = bs(html, 'html.parser')\n",
    "        #author_url = soup.find_all('a')\n",
    "        for link in soup.find_all('a',href=True):  \n",
    "            if link.get_text() == \"(about)\":\n",
    "                author_url = 'http://quotes.toscrape.com' + link[\"href\"]\n",
    "                browser = init_browser()\n",
    "                url = author_url\n",
    "                browser.visit(url)\n",
    "                time.sleep(1)\n",
    "                html = browser.html\n",
    "                soup = bs(html, 'html.parser')\n",
    "                author_born = soup.find_all('span', class_='author-born-date')\n",
    "                author_description = soup.find_all('div', class_='author-description')\n",
    "                print('Author URL : http://quotes.toscrape.com' + link[\"href\"])\n",
    "                print(f'Author born: {author_born[0].text}, Author Description: {author_description[0].text}')\n",
    "            else:\n",
    "                continue\n",
    "        browser.links.find_by_partial_text('Next').click()"
   ]
  },
  {
   "cell_type": "code",
   "execution_count": 16,
   "metadata": {},
   "outputs": [],
   "source": [
    "#author_details()"
   ]
  },
  {
   "cell_type": "code",
   "execution_count": null,
   "metadata": {},
   "outputs": [],
   "source": []
  }
 ],
 "metadata": {
  "kernelspec": {
   "display_name": "Python 3",
   "language": "python",
   "name": "python3"
  },
  "language_info": {
   "codemirror_mode": {
    "name": "ipython",
    "version": 3
   },
   "file_extension": ".py",
   "mimetype": "text/x-python",
   "name": "python",
   "nbconvert_exporter": "python",
   "pygments_lexer": "ipython3",
   "version": "3.8.3"
  }
 },
 "nbformat": 4,
 "nbformat_minor": 4
}
